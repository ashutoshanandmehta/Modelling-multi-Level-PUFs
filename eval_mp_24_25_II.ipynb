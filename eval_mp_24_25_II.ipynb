{
  "nbformat": 4,
  "nbformat_minor": 0,
  "metadata": {
    "colab": {
      "provenance": []
    },
    "kernelspec": {
      "name": "python3",
      "display_name": "Python 3"
    },
    "language_info": {
      "name": "python"
    }
  },
  "cells": [
    {
      "cell_type": "code",
      "execution_count": null,
      "metadata": {
        "id": "5IhJWcNRsWC-"
      },
      "outputs": [],
      "source": [
        "import numpy as np\n",
        "from submit import my_map\n",
        "from submit import my_fit\n",
        "from submit import my_decode\n",
        "import time as tm"
      ]
    },
    {
      "cell_type": "code",
      "source": [
        "Z_trn = np.loadtxt( \"secret_trn.txt\" )\n",
        "Z_tst = np.loadtxt( \"secret_tst.txt\" )\n",
        "\n",
        "n_trials = 5\n",
        "\n",
        "d_size = 0\n",
        "t_train = 0\n",
        "t_map = 0\n",
        "acc = 0"
      ],
      "metadata": {
        "id": "LyDzwfPYsb9d"
      },
      "execution_count": null,
      "outputs": []
    },
    {
      "cell_type": "code",
      "source": [
        "for t in range( n_trials ):\n",
        "  tic = tm.perf_counter()\n",
        "  w, b = my_fit( Z_trn[:, :-1], Z_trn[:,-1] )\n",
        "  toc = tm.perf_counter()\n",
        "\n",
        "  t_train += toc - tic\n",
        "  w = w.reshape( -1 )\n",
        "\n",
        "  d_size += w.shape[0]\n",
        "\n",
        "  tic = tm.perf_counter()\n",
        "  feat = my_map( Z_tst[:, :-1] )\n",
        "  toc = tm.perf_counter()\n",
        "  t_map += toc - tic\n",
        "\n",
        "  scores = feat.dot( w ) + b\n",
        "\n",
        "  pred = np.zeros_like( scores )\n",
        "  pred[ scores > 0 ] = 1\n",
        "\n",
        "  acc += np.average( Z_tst[ :, -1 ] == pred )"
      ],
      "metadata": {
        "id": "k7v5ghgDsnTR"
      },
      "execution_count": null,
      "outputs": []
    },
    {
      "cell_type": "code",
      "source": [
        "d_size /= n_trials\n",
        "t_train /= n_trials\n",
        "t_map /= n_trials\n",
        "acc /= n_trials"
      ],
      "metadata": {
        "id": "QLjzaNP8tDw4"
      },
      "execution_count": null,
      "outputs": []
    },
    {
      "cell_type": "code",
      "source": [
        "def get_model( p, q, r, s ):\n",
        "  p = np.maximum( p, 0 )\n",
        "  q = np.maximum( q, 0 )\n",
        "  r = np.maximum( r, 0 )\n",
        "  s = np.maximum( s, 0 )\n",
        "  d = p - q\n",
        "  c = r - s\n",
        "  alpha = ( d + c ) / 2\n",
        "  beta = ( d - c ) / 2\n",
        "  w = np.zeros( ( len( alpha ) + 1, )  )\n",
        "  w[:-1] += alpha\n",
        "  w[1:] += beta\n",
        "  return w"
      ],
      "metadata": {
        "id": "b0SWo4TYuUKc"
      },
      "execution_count": null,
      "outputs": []
    },
    {
      "cell_type": "code",
      "source": [
        "W = np.loadtxt( \"secret_mod.txt\" )\n",
        "( n_models, dims ) = W.shape\n",
        "t_decode = 0\n",
        "m_dist = 0\n",
        "for t in range( n_trials ):\n",
        "  for itr in range( n_models ):\n",
        "    w = W[ itr, : ]\n",
        "    tic = tm.perf_counter()\n",
        "    p_hat, q_hat, r_hat, s_hat = my_decode( w )\n",
        "    toc = tm.perf_counter()\n",
        "    t_decode += toc - tic\n",
        "    w_hat = get_model( p_hat, q_hat, r_hat, s_hat )\n",
        "    m_dist += np.linalg.norm( w - w_hat )"
      ],
      "metadata": {
        "id": "iZs4lZMntVcU"
      },
      "execution_count": null,
      "outputs": []
    },
    {
      "cell_type": "code",
      "source": [
        "t_decode /= ( n_trials * n_models )\n",
        "m_dist /= ( n_trials * n_models )"
      ],
      "metadata": {
        "id": "jS_GV0TIvaM2"
      },
      "execution_count": null,
      "outputs": []
    },
    {
      "cell_type": "code",
      "source": [
        "print( f\"{d_size},{t_train},{t_map},{1 - acc},{t_decode},{m_dist}\" )"
      ],
      "metadata": {
        "colab": {
          "base_uri": "https://localhost:8080/"
        },
        "id": "Bm2PaIh5tGzq",
        "outputId": "0366892b-a8ae-4119-fd8b-52386f1fd6b6"
      },
      "execution_count": null,
      "outputs": [
        {
          "output_type": "stream",
          "name": "stdout",
          "text": [
            "8.0,9.857800023382879e-06,0.0002463024000007863,0.31499999999999995,1.3458400007948513e-05,1.6199987057689555\n"
          ]
        }
      ]
    }
  ]
}